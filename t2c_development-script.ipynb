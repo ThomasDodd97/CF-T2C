{
 "cells": [
  {
   "cell_type": "code",
   "execution_count": 176,
   "metadata": {},
   "outputs": [],
   "source": [
    "# Import the relevant modules.\n",
    "import os\n",
    "import re\n",
    "import pandas as pd"
   ]
  },
  {
   "cell_type": "code",
   "execution_count": 177,
   "metadata": {},
   "outputs": [],
   "source": [
    "# Get the path in which we are activating the .tec to .csv program\n",
    "base_path = os.getcwd()\n",
    "os.chdir(base_path)\n",
    "\n",
    "# Get list of all the files with the .tec filetype.\n",
    "tec_files_list = []\n",
    "\n",
    "for i in os.listdir():\n",
    "    if \".tec\" in i:\n",
    "        tec_files_list.append(i)"
   ]
  },
  {
   "cell_type": "code",
   "execution_count": 179,
   "metadata": {},
   "outputs": [],
   "source": [
    "# A function for making a dictionary out of values and variable titles.\n",
    "def dictionary_maker(variables_list,line_values_list):\n",
    "    line_values_dict = {}\n",
    "    for variable in variables_list:\n",
    "        for value in line_values_list:\n",
    "            line_values_dict[variable] = value\n",
    "            line_values_list.remove(value)\n",
    "            break\n",
    "    return(line_values_dict)"
   ]
  },
  {
   "cell_type": "code",
   "execution_count": 180,
   "metadata": {},
   "outputs": [],
   "source": [
    "# A function for generating a name from a file\n",
    "def name_generator(file):\n",
    "    # Creating a directory for the outputted .csv files to go in\n",
    "    csv_path = os.getcwd() + \"/tec2csv\"\n",
    "    if os.path.exists(csv_path) == True:\n",
    "        pass\n",
    "    else:\n",
    "        os.mkdir(csv_path)\n",
    "    original_name = file\n",
    "    stripped_name = os.path.splitext(original_name)[0]\n",
    "    extension = \".csv\"\n",
    "    new_name = stripped_name + extension\n",
    "    new_path = csv_path + \"/\" + new_name\n",
    "    return(new_name,new_path)"
   ]
  },
  {
   "cell_type": "code",
   "execution_count": 181,
   "metadata": {},
   "outputs": [],
   "source": [
    "# A function for opening an individual file and reading all its lines of text.\n",
    "def file_opener(file):\n",
    "    with open(file) as f:\n",
    "        lines = f.readlines()\n",
    "        nr_lines = len(lines)\n",
    "    return(lines, nr_lines)"
   ]
  },
  {
   "cell_type": "code",
   "execution_count": 182,
   "metadata": {},
   "outputs": [],
   "source": [
    "# A function for interpreting a specific file and generating a df of all its data.\n",
    "def file_interpreter(lines,nr_lines):\n",
    "    # First line = title information.\n",
    "    title = re.search('\\\"(.*)\\\"', lines[0])\n",
    "    # Second line = variables information.\n",
    "    variables_list = re.findall('\\\"(.*?)\\\"', lines[1])\n",
    "    nr_variables = len(variables_list)\n",
    "    # Third line = zones\n",
    "    zones = lines[2]\n",
    "    # Creating a dataframe to place data into:\n",
    "    df = pd.DataFrame(columns=variables_list)\n",
    "    # Looping through the data after the third line, and placing it into the df.\n",
    "    start_i = 3\n",
    "    end_i = nr_lines\n",
    "    for i in range(start_i, end_i):\n",
    "        line_values_list = lines[i].split()\n",
    "        line_values_dict = dictionary_maker(variables_list, line_values_list)\n",
    "        row_to_add = pd.Series(line_values_dict, name = i)\n",
    "        df = df.append(row_to_add)\n",
    "    return(df)"
   ]
  },
  {
   "cell_type": "code",
   "execution_count": 183,
   "metadata": {},
   "outputs": [],
   "source": [
    "# A function for placing a df into a correct place as a .csv file\n",
    "def file_maker(df,new_path):\n",
    "    df.to_csv(new_path, index=False)"
   ]
  },
  {
   "cell_type": "code",
   "execution_count": 184,
   "metadata": {},
   "outputs": [],
   "source": [
    "# Test for a single file\n",
    "lines, nr_lines = file_opener(tec_files_list[0])\n",
    "new_name,new_path = name_generator(tec_files_list[0])\n",
    "df = file_interpreter(lines,nr_lines)\n",
    "file_maker(df,new_path)"
   ]
  },
  {
   "cell_type": "code",
   "execution_count": 185,
   "metadata": {},
   "outputs": [],
   "source": [
    "# Test for all the files of a specific filetype\n",
    "for file in tec_files_list:\n",
    "    lines, nr_lines = file_opener(file)\n",
    "    new_name,new_path = name_generator(file)\n",
    "    df = file_interpreter(lines,nr_lines)\n",
    "    file_maker(df,new_path)"
   ]
  }
 ],
 "metadata": {
  "interpreter": {
   "hash": "31f2aee4e71d21fbe5cf8b01ff0e069b9275f58929596ceb00d14d90e3e16cd6"
  },
  "kernelspec": {
   "display_name": "Python 3.8.9 64-bit",
   "language": "python",
   "name": "python3"
  },
  "language_info": {
   "codemirror_mode": {
    "name": "ipython",
    "version": 3
   },
   "file_extension": ".py",
   "mimetype": "text/x-python",
   "name": "python",
   "nbconvert_exporter": "python",
   "pygments_lexer": "ipython3",
   "version": "3.9.7"
  },
  "orig_nbformat": 4
 },
 "nbformat": 4,
 "nbformat_minor": 2
}
